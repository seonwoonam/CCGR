{
  "cells": [
    {
      "cell_type": "markdown",
      "metadata": {
        "id": "JP-tMdIGGqCP"
      },
      "source": [
        "Graph Attention Networks\n",
        "\n"
      ]
    },
    {
      "cell_type": "markdown",
      "metadata": {
        "id": "d6vRju7rGqCS"
      },
      "source": [
        "## Outline"
      ]
    },
    {
      "cell_type": "markdown",
      "metadata": {
        "id": "36nzXBX_GqCS"
      },
      "source": [
        "- colab 에서 실행하기 위한 setting"
      ]
    },
    {
      "cell_type": "code",
      "execution_count": null,
      "metadata": {
        "id": "yXAR0zvIGqCT",
        "outputId": "b2dd9be2-87df-45cb-dcf3-cec51d9d66a8",
        "colab": {
          "base_uri": "https://localhost:8080/"
        }
      },
      "outputs": [
        {
          "output_type": "stream",
          "name": "stdout",
          "text": [
            "2.0.1+cu118\n",
            "  Installing build dependencies ... \u001b[?25l\u001b[?25hdone\n",
            "  Getting requirements to build wheel ... \u001b[?25l\u001b[?25hdone\n",
            "  Preparing metadata (pyproject.toml) ... \u001b[?25l\u001b[?25hdone\n"
          ]
        }
      ],
      "source": [
        "import os\n",
        "import torch\n",
        "os.environ['TORCH'] = torch.__version__\n",
        "print(torch.__version__)\n",
        "\n",
        "!pip install -q torch-scatter -f https://data.pyg.org/whl/torch-${TORCH}.html\n",
        "!pip install -q torch-sparse -f https://data.pyg.org/whl/torch-${TORCH}.html\n",
        "!pip install -q git+https://github.com/pyg-team/pytorch_geometric.git"
      ]
    },
    {
      "cell_type": "code",
      "execution_count": null,
      "metadata": {
        "id": "Ee2XGsMLGqCV"
      },
      "outputs": [],
      "source": [
        "import numpy as np\n",
        "import torch\n",
        "import torch.nn as nn\n",
        "import torch.nn.functional as F"
      ]
    },
    {
      "cell_type": "code",
      "source": [
        "from google.colab import drive\n",
        "drive.mount('/content/drive')"
      ],
      "metadata": {
        "colab": {
          "base_uri": "https://localhost:8080/"
        },
        "id": "75_I_3VKKXr5",
        "outputId": "d5d86613-8edf-4a70-b645-e9cdbcfc1615"
      },
      "execution_count": null,
      "outputs": [
        {
          "output_type": "stream",
          "name": "stdout",
          "text": [
            "Drive already mounted at /content/drive; to attempt to forcibly remount, call drive.mount(\"/content/drive\", force_remount=True).\n"
          ]
        }
      ]
    },
    {
      "cell_type": "code",
      "source": [
        "import os\n",
        "os.chdir('/content/drive/MyDrive/Colab Notebooks/graph')\n",
        "!ls"
      ],
      "metadata": {
        "colab": {
          "base_uri": "https://localhost:8080/"
        },
        "id": "EE6NuGkrKmG2",
        "outputId": "d80fed14-d2ec-4841-92e9-f5db3c76eaf7"
      },
      "execution_count": null,
      "outputs": [
        {
          "output_type": "stream",
          "name": "stdout",
          "text": [
            "'graph attention networks - cancer data'\n",
            " node.csv\n",
            " totaledge_edge_breast-cancer.csv\n",
            " totaledge_edge_cancer.csv\n",
            " totaledge_edge_colorectal-cancer.csv\n",
            " totaledge_edge_endometrial-cancer.csv\n",
            " totaledge_edge_glioma.csv\n",
            " totaledge_edge_renal-cell-carcinoma.csv\n",
            " totalnode_brca_tcga.csv\n",
            " totalnode_brca_tcga_pan_can_atlas_2018.csv\n",
            " totalnode_brca_tcga_pub2015.csv\n",
            " totalnode_ccle_broad_2019.csv\n",
            " totalnode_coadread_tcga_pan_can_atlas_2018.csv\n",
            " totalnode_kirc_tcga.csv\n",
            " totalnode_lgg_tcga.csv\n",
            " totalnode_ucec_tcga_pan_can_atlas_2018.csv\n"
          ]
        }
      ]
    },
    {
      "cell_type": "code",
      "source": [
        "from typing import Union, Tuple, Optional\n",
        "\n",
        "from torch_geometric.nn.inits import glorot\n",
        "from torch_geometric.typing import (OptPairTensor, Adj, Size, NoneType,\n",
        "                                    OptTensor)\n",
        "\n",
        "import torch\n",
        "from torch import Tensor\n",
        "import torch.nn.functional as F\n",
        "from torch_geometric.nn.conv import GATConv\n",
        "from torch_geometric.utils import (\n",
        "    add_self_loops,\n",
        "    softmax,\n",
        ")\n",
        "\n",
        "\n",
        "class GATEdgeConv(GATConv):\n",
        "      def edge_update(self, alpha_j: Tensor, alpha_i: OptTensor,\n",
        "                    edge_attr: OptTensor, index: Tensor, ptr: OptTensor,\n",
        "                    size_i: Optional[int]) -> Tensor:\n",
        "\n",
        "        alpha = alpha_j if alpha_i is None else alpha_j + alpha_i\n",
        "        if index.numel() == 0:\n",
        "            return alpha\n",
        "        if edge_attr is not None and self.lin_edge is not None:\n",
        "            if edge_attr.dim() == 1:\n",
        "                edge_attr = edge_attr.view(-1, 1)\n",
        "            edge_attr = self.lin_edge(edge_attr)\n",
        "            edge_attr = edge_attr.view(-1, self.heads, self.out_channels)\n",
        "            alpha_edge = (edge_attr * self.att_edge).sum(dim=-1)\n",
        "            alpha = alpha + alpha_edge\n",
        "\n",
        "        alpha = F.leaky_relu(alpha, self.negative_slope)\n",
        "        alpha = softmax(alpha, index, ptr, size_i)\n",
        "        alpha = F.dropout(alpha, p=self.dropout, training=self.training)\n",
        "        return alpha"
      ],
      "metadata": {
        "id": "UHL2iqwUCROM"
      },
      "execution_count": null,
      "outputs": []
    },
    {
      "cell_type": "code",
      "source": [
        "\n",
        "import torch.utils.data as data\n",
        "from torch_geometric.data import Data\n",
        "from torch_geometric.nn import GATConv\n",
        "import torch_geometric.transforms as T\n",
        "import pandas as pd\n",
        "from torch_geometric.data import Batch\n",
        "\n",
        "node_data = pd.read_csv('node.csv').dropna(axis=0)\n",
        "\n",
        "node_data = node_data[node_data['cancer_type']=='Breast Cancer']\n",
        "node_data = node_data[node_data['path']=='breast-cancer']\n",
        "node_data = node_data.reset_index(drop=True)\n",
        "\n",
        "\n",
        "node_data_type_detailed = node_data['cancer_type_detailed'].unique()\n",
        "\n",
        "file_name = f'totaledge_edge_breast-cancer.csv'\n",
        "edge_data = pd.read_csv(file_name).dropna(axis=0)\n",
        "edge_data = edge_data.reset_index(drop=True)\n",
        "\n",
        "\n",
        "x = torch.tensor(node_data.drop(['cancer_type', 'cancer_type_detailed', 'path'], axis=1).values, dtype=torch.float)\n",
        "\n",
        "edge_data['source'], _ = pd.factorize(edge_data['source'])\n",
        "edge_data['target'], _ = pd.factorize(edge_data['target'])\n",
        "\n",
        "\n",
        "edge_index = torch.tensor(edge_data[['source', 'target']].values.T, dtype=torch.long)\n",
        "edge_weight = torch.tensor(edge_data['weight'].values, dtype=torch.float)\n",
        "\n",
        "node_data['cancer_type_detailed'], _ = pd.factorize(node_data['cancer_type_detailed'])\n",
        "\n",
        "y = torch.tensor(node_data['cancer_type_detailed'].values, dtype=torch.long)\n",
        "\n",
        "data = Data(x=x, edge_index=edge_index, edge_attr=edge_weight, y=y)\n",
        "\n",
        "print(data.num_nodes, data.num_edges)\n",
        "data.transform = T.NormalizeFeatures()\n",
        "\n"
      ],
      "metadata": {
        "colab": {
          "base_uri": "https://localhost:8080/"
        },
        "id": "YaTtSKTy00Yy",
        "outputId": "6a5e0348-3e0e-4999-829d-96df9c5e5413"
      },
      "execution_count": null,
      "outputs": [
        {
          "output_type": "stream",
          "name": "stdout",
          "text": [
            "3262 268\n"
          ]
        }
      ]
    },
    {
      "cell_type": "code",
      "source": [
        "print(data)"
      ],
      "metadata": {
        "colab": {
          "base_uri": "https://localhost:8080/"
        },
        "id": "04G_UWCKrRpf",
        "outputId": "8e7ea320-e831-462b-b73d-c34e8c14bc4d"
      },
      "execution_count": null,
      "outputs": [
        {
          "output_type": "stream",
          "name": "stdout",
          "text": [
            "Data(x=[3262, 176], edge_index=[2, 268], edge_attr=[268], y=[3262], transform=NormalizeFeatures())\n"
          ]
        }
      ]
    },
    {
      "cell_type": "code",
      "source": [
        "from torch_geometric.loader import DataLoader\n",
        "\n",
        "# train, validation, test 데이터의 비율을 지정.\n",
        "train_ratio = 0.7\n",
        "val_ratio = 0.1\n",
        "test_ratio = 0.2\n",
        "\n",
        "# 데이터의 개수를 계산.\n",
        "num_data = data.num_nodes\n",
        "num_train = int(num_data * train_ratio)\n",
        "num_val = int(num_data * val_ratio)\n",
        "num_test = num_data - num_train - num_val\n",
        "\n",
        "# 데이터를 랜덤하게 섞기.\n",
        "perm = torch.randperm(num_data)\n",
        "\n",
        "# train, validation, test 데이터의 인덱스를 계산.\n",
        "train_idx = perm[:num_train]\n",
        "val_idx = perm[num_train:num_train+num_val]\n",
        "test_idx = perm[num_train+num_val:]\n",
        "\n",
        "# train, validation, test 데이터를 나누는 마스크를 생성.\n",
        "train_mask = torch.zeros(num_data, dtype=torch.bool)\n",
        "val_mask = torch.zeros(num_data, dtype=torch.bool)\n",
        "test_mask = torch.zeros(num_data, dtype=torch.bool)\n",
        "\n",
        "train_mask[train_idx] = True\n",
        "val_mask[val_idx] = True\n",
        "test_mask[test_idx] = True\n",
        "\n",
        "# train, validation, test 데이터를 나누기.\n",
        "data.train_mask = train_mask\n",
        "data.val_mask = val_mask\n",
        "data.test_mask = test_mask\n",
        "\n",
        "\n",
        "# train, validation, test 데이터를 로드하는 DataLoader 객체를 생성.\n",
        "# batch loader 에서 사용 - 현재 batch loader 구현 실패\n",
        "# train_loader = DataLoader(train_data, batch_size=32, shuffle=True)\n",
        "# val_loader = DataLoader(val_data, batch_size=32, shuffle=False)\n",
        "# test_loader = DataLoader(test_data, batch_size=32, shuffle=False)\n",
        "\n",
        "\n"
      ],
      "metadata": {
        "id": "qO9v4bR-YwEi"
      },
      "execution_count": null,
      "outputs": []
    },
    {
      "cell_type": "code",
      "execution_count": null,
      "metadata": {
        "id": "IyxZ_uXfGqCY",
        "colab": {
          "base_uri": "https://localhost:8080/"
        },
        "outputId": "6afcd13b-f177-42b8-8e6b-d0cc7805b076"
      },
      "outputs": [
        {
          "output_type": "stream",
          "name": "stdout",
          "text": [
            "Loss : tensor(3.7376, grad_fn=<NllLossBackward0>) , val_loss :  tensor(3.6614, grad_fn=<NllLossBackward0>)\n",
            "Loss : tensor(0.8119, grad_fn=<NllLossBackward0>) , val_loss :  tensor(0.9427, grad_fn=<NllLossBackward0>)\n",
            "Loss : tensor(0.6924, grad_fn=<NllLossBackward0>) , val_loss :  tensor(0.7415, grad_fn=<NllLossBackward0>)\n",
            "Loss : tensor(0.5868, grad_fn=<NllLossBackward0>) , val_loss :  tensor(0.6735, grad_fn=<NllLossBackward0>)\n",
            "Loss : tensor(0.5042, grad_fn=<NllLossBackward0>) , val_loss :  tensor(0.6373, grad_fn=<NllLossBackward0>)\n",
            "Loss : tensor(0.4710, grad_fn=<NllLossBackward0>) , val_loss :  tensor(0.6516, grad_fn=<NllLossBackward0>)\n",
            "Loss : tensor(0.4176, grad_fn=<NllLossBackward0>) , val_loss :  tensor(0.5791, grad_fn=<NllLossBackward0>)\n",
            "Loss : tensor(0.3827, grad_fn=<NllLossBackward0>) , val_loss :  tensor(0.5565, grad_fn=<NllLossBackward0>)\n",
            "Loss : tensor(0.3641, grad_fn=<NllLossBackward0>) , val_loss :  tensor(0.4513, grad_fn=<NllLossBackward0>)\n",
            "Loss : tensor(0.3260, grad_fn=<NllLossBackward0>) , val_loss :  tensor(0.4472, grad_fn=<NllLossBackward0>)\n",
            "\n",
            "소요된 시간: 11.607577800750732 초\n",
            "Train Accuracy: 0.9759\n",
            "val Accuracy: 0.9509\n",
            "Test Accuracy: 0.9127\n"
          ]
        }
      ],
      "source": [
        "import time\n",
        "\n",
        "# 코드\n",
        "class GAT(torch.nn.Module):\n",
        "    def __init__(self):\n",
        "        super(GAT, self).__init__()\n",
        "        self.hid = 8\n",
        "        self.in_head = 8\n",
        "        self.out_head = 1\n",
        "\n",
        "        self.conv1 = GATEdgeConv(data.num_features, self.hid, heads=self.in_head, dropout=0.3)\n",
        "        self.conv2 = GATEdgeConv(self.hid*self.in_head, len(node_data_type_detailed), concat=False,\n",
        "                             heads=self.out_head, dropout=0.3)\n",
        "\n",
        "    def forward(self, data):\n",
        "        x, edge_index, edge_attr = data.x, data.edge_index, data.edge_attr\n",
        "\n",
        "        x = self.conv1(x = x, edge_index = edge_index, edge_attr = edge_attr)\n",
        "        x = F.elu(x)\n",
        "        x = self.conv2(x = x, edge_index = edge_index, edge_attr = edge_attr)\n",
        "\n",
        "        return F.log_softmax(x, dim=1)\n",
        "\n",
        "\n",
        "# device = torch.device('cuda' if torch.cuda.is_available() else 'cpu')\n",
        "\n",
        "# model = GAT().to(device)\n",
        "\n",
        "# batch_size = 32\n",
        "# loader = DataLoader(data, batch_size=batch_size, shuffle=True)\n",
        "\n",
        "model = GAT()\n",
        "\n",
        "criterion = torch.nn.CrossEntropyLoss()\n",
        "\n",
        "optimizer = torch.optim.Adam(model.parameters(), lr=0.005, weight_decay=5e-4)\n",
        "\n",
        "train_loss_list=[]\n",
        "val_loss_list=[]\n",
        "\n",
        "start_time = time.time()\n",
        "model.train()\n",
        "for epoch in range(500):\n",
        "    model.train()\n",
        "    # for data in loader:\n",
        "    optimizer.zero_grad()\n",
        "    out = model(data)\n",
        "    loss = criterion(out[data.train_mask], data.y[data.train_mask])\n",
        "    val_loss = criterion(out[data.val_mask], data.y[data.val_mask])\n",
        "\n",
        "    train_loss_list +=[loss.item()]\n",
        "    val_loss_list +=[val_loss.item()]\n",
        "    if epoch%50 == 0:\n",
        "        print(\"Loss :\",loss,\", val_loss : \",val_loss)\n",
        "\n",
        "    loss.backward()\n",
        "    optimizer.step()\n",
        "\n",
        "\n",
        "end_time = time.time()\n",
        "elapsed_time = end_time - start_time\n",
        "print(\"\\n소요된 시간:\", elapsed_time, \"초\")\n",
        "model.eval()\n",
        "_, pred = model(data).max(dim=1)\n",
        "correct = float(pred[data.train_mask].eq(data.y[data.train_mask]).sum().item())\n",
        "acc = correct / data.train_mask.sum().item()\n",
        "\n",
        "print('Train Accuracy: {:.4f}'.format(acc))\n",
        "\n",
        "\n",
        "correct = float(pred[data.val_mask].eq(data.y[data.val_mask]).sum().item())\n",
        "acc = correct / data.val_mask.sum().item()\n",
        "print('val Accuracy: {:.4f}'.format(acc))\n",
        "\n",
        "\n",
        "correct = float(pred[data.test_mask].eq(data.y[data.test_mask]).sum().item())\n",
        "acc = correct / data.test_mask.sum().item()\n",
        "print('Test Accuracy: {:.4f}'.format(acc))"
      ]
    },
    {
      "cell_type": "code",
      "source": [
        "import matplotlib.pyplot as plt\n",
        "plt.plot(train_loss_list, label='Train')\n",
        "plt.plot(val_loss_list, label='Validation')\n",
        "plt.xlabel('Epoch')\n",
        "plt.ylabel('Loss')\n",
        "plt.legend()\n",
        "plt.show()"
      ],
      "metadata": {
        "colab": {
          "base_uri": "https://localhost:8080/",
          "height": 449
        },
        "id": "wZqhQl1nDQJc",
        "outputId": "d0cda2ac-77f8-42f0-c26b-46991abf1cb5"
      },
      "execution_count": null,
      "outputs": [
        {
          "output_type": "display_data",
          "data": {
            "text/plain": [
              "<Figure size 640x480 with 1 Axes>"
            ],
            "image/png": "[encoded data removed]"
          },
          "metadata": {}
        }
      ]
    },
    {
      "cell_type": "code",
      "execution_count": null,
      "metadata": {
        "id": "3BWvWTboGqCZ"
      },
      "outputs": [],
      "source": [
        "# 직접 만든 GAT layer로 학습\n",
        "# class GAT(torch.nn.Module):\n",
        "#     def __init__(self):\n",
        "#         super(GAT, self).__init__()\n",
        "#         self.hid = 8\n",
        "#         self.in_head = 8\n",
        "#         self.out_head = 1\n",
        "\n",
        "#         self.conv1 = GATLayer(in_features=dataset.num_features, out_features = self.hid, dropout=0.6, alpha = 0.2)\n",
        "#         self.conv2 = GATLayer(in_features=self.hid*self.in_head, out_features = dataset.num_classes, dropout=0.6, alpha = 0.2)\n",
        "\n",
        "#     def forward(self, data):\n",
        "#         x, edge_index = data.x, data.edge_index\n",
        "\n",
        "#         x = F.dropout(x, p=0.6, training=self.training)\n",
        "#         x = self.conv1(x, edge_index)\n",
        "#         x = F.elu(x)\n",
        "#         x = F.dropout(x, p=0.6, training=self.training)\n",
        "#         x = self.conv2(x, edge_index)\n",
        "\n",
        "#         return F.log_softmax(x, dim=1)\n",
        "\n",
        "\n",
        "# device = torch.device('cuda' if torch.cuda.is_available() else 'cpu')\n",
        "\n",
        "# model = GAT().to(device)\n",
        "# data = dataset[0].to(device)\n",
        "\n",
        "\n",
        "# optimizer = torch.optim.Adam(model.parameters(), lr=0.005, weight_decay=5e-4)\n",
        "\n",
        "# model.train()\n",
        "# for epoch in range(1000):\n",
        "#     model.train()\n",
        "#     optimizer.zero_grad()\n",
        "#     out = model(data)\n",
        "#     loss = F.nll_loss(out[data.train_mask], data.y[data.train_mask])\n",
        "\n",
        "#     if epoch%200 == 0:\n",
        "#         print(loss)\n",
        "\n",
        "#     loss.backward()\n",
        "#     optimizer.step()\n",
        "\n"
      ]
    },
    {
      "cell_type": "code",
      "source": [],
      "metadata": {
        "id": "hQmwPVnt48hU"
      },
      "execution_count": null,
      "outputs": []
    }
  ],
  "metadata": {
    "kernelspec": {
      "display_name": "Python 3",
      "name": "python3"
    },
    "language_info": {
      "codemirror_mode": {
        "name": "ipython",
        "version": 3
      },
      "file_extension": ".py",
      "mimetype": "text/x-python",
      "name": "python",
      "nbconvert_exporter": "python",
      "pygments_lexer": "ipython3",
      "version": "3.9.12"
    },
    "colab": {
      "provenance": [],
      "gpuType": "T4"
    },
    "accelerator": "GPU"
  },
  "nbformat": 4,
  "nbformat_minor": 0
}